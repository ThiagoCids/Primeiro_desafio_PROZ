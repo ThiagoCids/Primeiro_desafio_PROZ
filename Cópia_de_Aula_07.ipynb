{
  "nbformat": 4,
  "nbformat_minor": 0,
  "metadata": {
    "colab": {
      "provenance": [],
      "include_colab_link": true
    },
    "kernelspec": {
      "name": "python3",
      "display_name": "Python 3"
    },
    "language_info": {
      "name": "python"
    }
  },
  "cells": [
    {
      "cell_type": "markdown",
      "metadata": {
        "id": "view-in-github",
        "colab_type": "text"
      },
      "source": [
        "<a href=\"https://colab.research.google.com/github/ThiagoCids/Primeiro_desafio_PROZ/blob/main/C%C3%B3pia_de_Aula_07.ipynb\" target=\"_parent\"><img src=\"https://colab.research.google.com/assets/colab-badge.svg\" alt=\"Open In Colab\"/></a>"
      ]
    },
    {
      "cell_type": "markdown",
      "source": [
        "#Prática Guiada\n",
        "Função que verifica se um array tem determinado elemento:"
      ],
      "metadata": {
        "id": "OYH7J-oiV5PK"
      }
    },
    {
      "cell_type": "code",
      "execution_count": null,
      "metadata": {
        "colab": {
          "base_uri": "https://localhost:8080/"
        },
        "id": "URYuAFE1T0Nq",
        "outputId": "4b43222a-bcd5-451f-943c-821d1bcd10a5"
      },
      "outputs": [
        {
          "output_type": "stream",
          "name": "stdout",
          "text": [
            "Não achamos o nome: João\n"
          ]
        }
      ],
      "source": [
        "def achar_elemento(elem, arr):\n",
        "  achou = False\n",
        "\n",
        "  for i in range(len(arr)):\n",
        "    if arr[i] == elem:\n",
        "      achou = True\n",
        "\n",
        "  if(achou == False):\n",
        "    print(\"Não achamos o nome: \" + elem)\n",
        "  else:\n",
        "    print(\"Achamos o nome: \" + elem)\n",
        "  \n",
        "nomes = [\"Rafael\", \"Arthur\", \"Karen\", \"Julia\"]\n",
        "achar_elemento(\"João\", nomes)\n",
        "\n",
        "\n"
      ]
    },
    {
      "cell_type": "markdown",
      "source": [
        "Ampliação / desafio:"
      ],
      "metadata": {
        "id": "J2RvRUM-XZa2"
      }
    },
    {
      "cell_type": "code",
      "source": [],
      "metadata": {
        "id": "rEFT7-eZXXwJ"
      },
      "execution_count": null,
      "outputs": []
    },
    {
      "cell_type": "markdown",
      "source": [
        "#PBL: Sistema de estoque"
      ],
      "metadata": {
        "id": "Cp5-vNSmfZfL"
      }
    },
    {
      "cell_type": "code",
      "source": [],
      "metadata": {
        "id": "dDE3Wkscfc18"
      },
      "execution_count": null,
      "outputs": []
    },
    {
      "cell_type": "markdown",
      "source": [
        "Com feature de adicionar produtos:"
      ],
      "metadata": {
        "id": "XaAWsLz6kn9C"
      }
    },
    {
      "cell_type": "code",
      "source": [],
      "metadata": {
        "id": "TlhcoLbojVtp"
      },
      "execution_count": null,
      "outputs": []
    },
    {
      "cell_type": "markdown",
      "source": [
        "#Prática guiada"
      ],
      "metadata": {
        "id": "eVIprlpGlzjj"
      }
    },
    {
      "cell_type": "markdown",
      "source": [
        "Contagem regressiva com Loop"
      ],
      "metadata": {
        "id": "5CvrUTS7X_lF"
      }
    },
    {
      "cell_type": "code",
      "source": [],
      "metadata": {
        "id": "_YGgeRGtl9RW"
      },
      "execution_count": null,
      "outputs": []
    },
    {
      "cell_type": "markdown",
      "source": [
        "Contagem regressiva com função recursiva"
      ],
      "metadata": {
        "id": "UYiYCFdel9vA"
      }
    },
    {
      "cell_type": "code",
      "source": [],
      "metadata": {
        "id": "8SkfOBN0mBKX"
      },
      "execution_count": null,
      "outputs": []
    }
  ]
}