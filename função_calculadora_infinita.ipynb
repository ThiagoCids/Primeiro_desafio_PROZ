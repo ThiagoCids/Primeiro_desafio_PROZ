{
  "nbformat": 4,
  "nbformat_minor": 0,
  "metadata": {
    "colab": {
      "provenance": [],
      "authorship_tag": "ABX9TyPd1/QR06j0z4iGy/+ELYyR",
      "include_colab_link": true
    },
    "kernelspec": {
      "name": "python3",
      "display_name": "Python 3"
    },
    "language_info": {
      "name": "python"
    }
  },
  "cells": [
    {
      "cell_type": "markdown",
      "metadata": {
        "id": "view-in-github",
        "colab_type": "text"
      },
      "source": [
        "<a href=\"https://colab.research.google.com/github/ThiagoCids/Primeiro_desafio_PROZ/blob/main/fun%C3%A7%C3%A3o_calculadora_infinita.ipynb\" target=\"_parent\"><img src=\"https://colab.research.google.com/assets/colab-badge.svg\" alt=\"Open In Colab\"/></a>"
      ]
    },
    {
      "cell_type": "code",
      "execution_count": null,
      "metadata": {
        "id": "_O3d_NCIEQaj"
      },
      "outputs": [],
      "source": [
        "def calculadora():\n",
        "    while True:\n",
        "        print(\"1: Soma\")\n",
        "        print(\"2: Subtração\")\n",
        "        print(\"3: Multiplicação\")\n",
        "        print(\"4: Divisão\")\n",
        "        print(\"0: Sair\")\n",
        "\n",
        "        opcao = int(input(\"Digite o número para a operação correspondente: \"))\n",
        "\n",
        "        if opcao == 0:\n",
        "            break\n",
        "        elif opcao < 0 or opcao > 4:\n",
        "            print(\"Essa opção não existe.\")\n",
        "            continue\n",
        "\n",
        "        num1 = float(input(\"Digite o primeiro número: \"))\n",
        "        num2 = float(input(\"Digite o segundo número: \"))\n",
        "\n",
        "        if opcao == 1:\n",
        "            resultado = num1 + num2\n",
        "            print(\"O resultado da soma é:\", resultado)\n",
        "        elif opcao == 2:\n",
        "            resultado = num1 - num2\n",
        "            print(\"O resultado da subtração é:\", resultado)\n",
        "        elif opcao == 3:\n",
        "            resultado = num1 * num2\n",
        "            print(\"O resultado da multiplicação é:\", resultado)\n",
        "        elif opcao == 4:\n",
        "            resultado = num1 / num2\n",
        "            print(\"O resultado da divisão é:\", resultado)\n",
        "\n",
        "calculadora()"
      ]
    }
  ]
}