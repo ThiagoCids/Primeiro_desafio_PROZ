{
  "nbformat": 4,
  "nbformat_minor": 0,
  "metadata": {
    "colab": {
      "provenance": [],
      "include_colab_link": true
    },
    "kernelspec": {
      "name": "python3",
      "display_name": "Python 3"
    },
    "language_info": {
      "name": "python"
    }
  },
  "cells": [
    {
      "cell_type": "markdown",
      "metadata": {
        "id": "view-in-github",
        "colab_type": "text"
      },
      "source": [
        "<a href=\"https://colab.research.google.com/github/ThiagoCids/Primeiro_desafio_PROZ/blob/main/C%C3%B3pia_de_Aula_04_alunos.ipynb\" target=\"_parent\"><img src=\"https://colab.research.google.com/assets/colab-badge.svg\" alt=\"Open In Colab\"/></a>"
      ]
    },
    {
      "cell_type": "code",
      "execution_count": 7,
      "metadata": {
        "id": "10uWQHgSXIt1",
        "colab": {
          "base_uri": "https://localhost:8080/"
        },
        "outputId": "00286169-9d8a-417d-efe4-e6900e564643"
      },
      "outputs": [
        {
          "output_type": "stream",
          "name": "stdout",
          "text": [
            "5\n",
            "<class 'int'>\n"
          ]
        }
      ],
      "source": [
        "numero = 5\n",
        "print(numero)\n",
        "print(type(numero))"
      ]
    },
    {
      "cell_type": "markdown",
      "source": [
        "# Tipos de dados:\n",
        "Agora declare variáveis para sua bebida favorita, o preço dela e se é alcolica ou não"
      ],
      "metadata": {
        "id": "jT4-WWXbXQzU"
      }
    },
    {
      "cell_type": "code",
      "source": [
        "bebida_favorita = \"Café sem açucar\"\n",
        "print(bebida_favorita)\n",
        "print(type(bebida_favorita))\n",
        "\n",
        "valor = 3.99\n",
        "print(valor)\n",
        "print(type(valor))\n",
        "\n",
        "alcolica = False\n",
        "print (alcolica)\n",
        "print(type(alcolica))\n",
        "\n",
        "\n"
      ],
      "metadata": {
        "id": "bL6UeRROXSM6"
      },
      "execution_count": null,
      "outputs": []
    },
    {
      "cell_type": "markdown",
      "source": [
        "#Operadores:\n",
        "Agora declaremos mais variáveis e usemos operadores"
      ],
      "metadata": {
        "id": "eqKkx7XeXTwU"
      }
    },
    {
      "cell_type": "code",
      "source": [
        "comida_favorita = \"Pizza Peperonni\"\n",
        "print(comida_favorita)\n",
        "print(type(comida_favorita))\n",
        "\n",
        "valor = 12.99\n",
        "print(valor)\n",
        "print(type(valor))\n",
        "\n",
        "meu_orcamento = 10.50\n",
        "print(meu_orcamento)\n",
        "print(type(meu_orcamento))\n",
        "\n",
        "sobrou = (valor - meu_orcamento)\n",
        "print(sobrou)\n",
        "print(type(sobrou))\n",
        "\n",
        "\n",
        "\n",
        "\n"
      ],
      "metadata": {
        "id": "VczCE4FUXVOP",
        "colab": {
          "base_uri": "https://localhost:8080/"
        },
        "outputId": "1f5424c6-06f8-4b27-c11b-9048ba7bfdb2"
      },
      "execution_count": 15,
      "outputs": [
        {
          "output_type": "stream",
          "name": "stdout",
          "text": [
            "Pizza Peperonni\n",
            "<class 'str'>\n",
            "12.99\n",
            "<class 'float'>\n",
            "10.5\n",
            "<class 'float'>\n",
            "2.49\n",
            "<class 'float'>\n"
          ]
        }
      ]
    },
    {
      "cell_type": "markdown",
      "source": [
        "**Desafio extra**: declare variáveis para sua sobremesa favorita, o preço dela, e a quantidade de convidados. Na sequência, imprima o novo valor total e o valor a ser pago por cada convidado."
      ],
      "metadata": {
        "id": "_eGxvNA-XW7g"
      }
    },
    {
      "cell_type": "code",
      "source": [
        "sobremesa_favorita = \"Pudim de Leite Condençado\"\n",
        "valor_sobremesa = 34.50\n",
        "convidados = 3\n",
        "valor_total = valor_sobremesa * convidados\n",
        "valor_convidado = valor_total / convidados\n",
        "\n",
        "print (f\"Valor total da sobremesa é: {valor_total}\")\n",
        "print(f\"Valor por convidado é: {valor_convidado}\")"
      ],
      "metadata": {
        "id": "n1tRjIHSXYys",
        "colab": {
          "base_uri": "https://localhost:8080/"
        },
        "outputId": "d5f019de-f819-449a-eb31-6a3cb70905df"
      },
      "execution_count": 18,
      "outputs": [
        {
          "output_type": "stream",
          "name": "stdout",
          "text": [
            "Valor total da sobremesa é: 103.5\n",
            "Valor por convidado é: 34.5\n"
          ]
        }
      ]
    },
    {
      "cell_type": "markdown",
      "source": [
        "#Estruturas condicionais:\n",
        "Verifiquemos se conseguimos pagar o jantar"
      ],
      "metadata": {
        "id": "UJmKYl2LXakd"
      }
    },
    {
      "cell_type": "code",
      "source": [],
      "metadata": {
        "id": "ER7BFdzYXcO0"
      },
      "execution_count": null,
      "outputs": []
    },
    {
      "cell_type": "markdown",
      "source": [
        "**Desafio extra:** inclui a variável do bom amigo"
      ],
      "metadata": {
        "id": "1qXA_GjJXds6"
      }
    },
    {
      "cell_type": "code",
      "source": [],
      "metadata": {
        "id": "eh_iUJD2Xe5p"
      },
      "execution_count": null,
      "outputs": []
    }
  ]
}