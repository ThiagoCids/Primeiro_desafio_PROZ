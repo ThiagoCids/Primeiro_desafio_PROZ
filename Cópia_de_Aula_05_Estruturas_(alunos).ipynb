{
  "nbformat": 4,
  "nbformat_minor": 0,
  "metadata": {
    "colab": {
      "provenance": [],
      "include_colab_link": true
    },
    "kernelspec": {
      "name": "python3",
      "display_name": "Python 3"
    },
    "language_info": {
      "name": "python"
    }
  },
  "cells": [
    {
      "cell_type": "markdown",
      "metadata": {
        "id": "view-in-github",
        "colab_type": "text"
      },
      "source": [
        "<a href=\"https://colab.research.google.com/github/ThiagoCids/Primeiro_desafio_PROZ/blob/main/C%C3%B3pia_de_Aula_05_Estruturas_(alunos).ipynb\" target=\"_parent\"><img src=\"https://colab.research.google.com/assets/colab-badge.svg\" alt=\"Open In Colab\"/></a>"
      ]
    },
    {
      "cell_type": "markdown",
      "source": [
        "##Estruturas de repetição"
      ],
      "metadata": {
        "id": "6oMINhG1Xoh9"
      }
    },
    {
      "cell_type": "markdown",
      "source": [
        "###1. Rega todas as plantas"
      ],
      "metadata": {
        "id": "yakkOG1UwjjT"
      }
    },
    {
      "cell_type": "code",
      "source": [
        "for i in range(6):\n",
        "  plantaAtual = str(i)\n",
        "  print(plantaAtual)"
      ],
      "metadata": {
        "id": "BU08xUdXXqdn"
      },
      "execution_count": null,
      "outputs": []
    },
    {
      "cell_type": "code",
      "source": [
        "i = 0\n",
        "quantideDePlantas = 6\n",
        "while(i < quantideDePlantas ):\n",
        "  print('A planta ', i, ' foi regada ')\n",
        "  i += 1"
      ],
      "metadata": {
        "id": "K66cuBMSXtgO",
        "colab": {
          "base_uri": "https://localhost:8080/"
        },
        "outputId": "ac510d7c-f958-4fb6-c600-d3fd5d2847be"
      },
      "execution_count": null,
      "outputs": [
        {
          "output_type": "stream",
          "name": "stdout",
          "text": [
            "A planta  0  foi regada \n",
            "A planta  1  foi regada \n",
            "A planta  2  foi regada \n",
            "A planta  3  foi regada \n",
            "A planta  4  foi regada \n",
            "A planta  5  foi regada \n"
          ]
        }
      ]
    },
    {
      "cell_type": "markdown",
      "source": [
        "###2. Regar só os pares"
      ],
      "metadata": {
        "id": "-_VdTnszwo2n"
      }
    },
    {
      "cell_type": "code",
      "source": [
        "i = 0\n",
        "quantideDePlantas = 6\n",
        "while(i < quantideDePlantas ):\n",
        "  print('A planta ', i, ' foi regada ')\n",
        "  i += 2"
      ],
      "metadata": {
        "id": "pOeV2pzFwuTh",
        "colab": {
          "base_uri": "https://localhost:8080/"
        },
        "outputId": "b5be6c78-d84d-4dfa-a8c3-dddae9db167c"
      },
      "execution_count": null,
      "outputs": [
        {
          "output_type": "stream",
          "name": "stdout",
          "text": [
            "A planta  0  foi regada \n",
            "A planta  2  foi regada \n",
            "A planta  4  foi regada \n"
          ]
        }
      ]
    },
    {
      "cell_type": "code",
      "source": [
        "for i in range(0,6,2):\n",
        "  print('A planta ', i, ' foi regada ')"
      ],
      "metadata": {
        "colab": {
          "base_uri": "https://localhost:8080/"
        },
        "id": "lnuvu9EPd9Uu",
        "outputId": "2bc44682-cc61-489e-f75b-9c46f65095e5"
      },
      "execution_count": null,
      "outputs": [
        {
          "output_type": "stream",
          "name": "stdout",
          "text": [
            "A planta  0  foi regada \n",
            "A planta  2  foi regada \n",
            "A planta  4  foi regada \n"
          ]
        }
      ]
    },
    {
      "cell_type": "markdown",
      "source": [
        "###3. Regar do 3 ao 5"
      ],
      "metadata": {
        "id": "ImeBGznuxR6T"
      }
    },
    {
      "cell_type": "code",
      "source": [
        "i = 3\n",
        "quantideDePlantas = 6\n",
        "while(i < quantideDePlantas ):\n",
        "  print('A planta ', i, ' foi regada ')\n",
        "  i += 1"
      ],
      "metadata": {
        "id": "MQAh7yH2xZ-E",
        "colab": {
          "base_uri": "https://localhost:8080/"
        },
        "outputId": "396220f1-5d77-48b2-f524-a699ce91c336"
      },
      "execution_count": null,
      "outputs": [
        {
          "output_type": "stream",
          "name": "stdout",
          "text": [
            "A planta  3  foi regada \n",
            "A planta  4  foi regada \n",
            "A planta  5  foi regada \n"
          ]
        }
      ]
    },
    {
      "cell_type": "markdown",
      "source": [
        "###4. Regar só o 2 e 3"
      ],
      "metadata": {
        "id": "aSRliVDbywTJ"
      }
    },
    {
      "cell_type": "code",
      "source": [
        "i = 2\n",
        "quantideDePlantas = 6\n",
        "while(i < 4 ):\n",
        "  print('A planta ', i, ' foi regada ')\n",
        "  i += 1"
      ],
      "metadata": {
        "id": "E6lHck8Sy38F",
        "colab": {
          "base_uri": "https://localhost:8080/"
        },
        "outputId": "c09dee21-ada8-43ea-ad9b-02b57260817b"
      },
      "execution_count": null,
      "outputs": [
        {
          "output_type": "stream",
          "name": "stdout",
          "text": [
            "A planta  2  foi regada \n",
            "A planta  3  foi regada \n"
          ]
        }
      ]
    },
    {
      "cell_type": "code",
      "source": [
        "for i in range(2,4,1):\n",
        "  print('A planta ', i, ' foi regada ')"
      ],
      "metadata": {
        "colab": {
          "base_uri": "https://localhost:8080/"
        },
        "id": "6CmoQ7xKfwSB",
        "outputId": "e1bda76d-ced4-428c-b826-67d1a96dd221"
      },
      "execution_count": null,
      "outputs": [
        {
          "output_type": "stream",
          "name": "stdout",
          "text": [
            "A planta  2  foi regada \n",
            "A planta  3  foi regada \n"
          ]
        }
      ]
    },
    {
      "cell_type": "markdown",
      "source": [
        "###5. Regar de trás para frente"
      ],
      "metadata": {
        "id": "YxPLYwsezFW_"
      }
    },
    {
      "cell_type": "code",
      "source": [
        "i = 6\n",
        "while(i > 0 ):\n",
        "  print('A planta ', i, ' foi regada ')\n",
        "  i -= 1"
      ],
      "metadata": {
        "id": "eO-rvEUwzJGR",
        "colab": {
          "base_uri": "https://localhost:8080/"
        },
        "outputId": "e4ebe07e-208a-4699-aed4-9d8ae4c923e9"
      },
      "execution_count": null,
      "outputs": [
        {
          "output_type": "stream",
          "name": "stdout",
          "text": [
            "A planta  6  foi regada \n",
            "A planta  5  foi regada \n",
            "A planta  4  foi regada \n",
            "A planta  3  foi regada \n",
            "A planta  2  foi regada \n",
            "A planta  1  foi regada \n"
          ]
        }
      ]
    },
    {
      "cell_type": "markdown",
      "source": [
        "##Funções\n",
        "1. Função escrever_multiplacao()"
      ],
      "metadata": {
        "id": "NV8L5nDbXump"
      }
    },
    {
      "cell_type": "code",
      "source": [],
      "metadata": {
        "id": "0T85eoHEXvxl"
      },
      "execution_count": null,
      "outputs": []
    },
    {
      "cell_type": "code",
      "source": [],
      "metadata": {
        "id": "vmUZG3msXxFm"
      },
      "execution_count": null,
      "outputs": []
    }
  ]
}