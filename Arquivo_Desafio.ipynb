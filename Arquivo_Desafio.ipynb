{
  "nbformat": 4,
  "nbformat_minor": 0,
  "metadata": {
    "colab": {
      "provenance": [],
      "authorship_tag": "ABX9TyMqBi8s7HIf7khlqB4XFXju",
      "include_colab_link": true
    },
    "kernelspec": {
      "name": "python3",
      "display_name": "Python 3"
    },
    "language_info": {
      "name": "python"
    }
  },
  "cells": [
    {
      "cell_type": "markdown",
      "metadata": {
        "id": "view-in-github",
        "colab_type": "text"
      },
      "source": [
        "<a href=\"https://colab.research.google.com/github/ThiagoCids/Primeiro_desafio_PROZ/blob/main/Arquivo_Desafio.ipynb\" target=\"_parent\"><img src=\"https://colab.research.google.com/assets/colab-badge.svg\" alt=\"Open In Colab\"/></a>"
      ]
    },
    {
      "cell_type": "code",
      "execution_count": null,
      "metadata": {
        "id": "ZyD-788mWJFa"
      },
      "outputs": [],
      "source": [
        "quantidadeRodas = int (input(\"Informe a quantidade de rodas: \"))\n",
        "pesoBrutoKg = float (input(\"Informe o peso bruto em quilogramas: \"))\n",
        "quantidadePessoas = int (input(\"Informe a quantidade de pessoas: \")) \n",
        "\n",
        "if ((quantidadeRodas == 2) or (quantidadeRodas == 3)): \n",
        "  print(\"CATEGORIA A\")\n",
        "elif ((quantidadeRodas == 4) and (pesoBrutoKg <= 3500) and (quantidadePessoas <= 8)):\n",
        "  print(\"CATEGORIA B\")\n",
        "elif ((quantidadeRodas >= 4) and (pesoBrutoKg >= 3500 <= 6000)):\n",
        "  print(\"CATEGORIA C\")\n",
        "elif ((quantidadeRodas >= 4) and (quantidadePessoas > 8)):\n",
        "  print(\"CATEGORIA D\")\n",
        "elif ((quantidadeRodas >= 4) and (pesoBrutoKg > 6000)):\n",
        "  print(\"CATEGORIA E\")\n",
        "else:\n",
        "  print(\"Não há categoria para essas informações\")\n",
        "  "
      ]
    }
  ]
}