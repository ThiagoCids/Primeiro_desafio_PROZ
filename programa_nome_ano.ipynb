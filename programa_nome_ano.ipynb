{
  "nbformat": 4,
  "nbformat_minor": 0,
  "metadata": {
    "colab": {
      "provenance": [],
      "authorship_tag": "ABX9TyNniYgbnYjm+5j2HIx3k1/7",
      "include_colab_link": true
    },
    "kernelspec": {
      "name": "python3",
      "display_name": "Python 3"
    },
    "language_info": {
      "name": "python"
    }
  },
  "cells": [
    {
      "cell_type": "markdown",
      "metadata": {
        "id": "view-in-github",
        "colab_type": "text"
      },
      "source": [
        "<a href=\"https://colab.research.google.com/github/ThiagoCids/Primeiro_desafio_PROZ/blob/main/programa_nome_ano.ipynb\" target=\"_parent\"><img src=\"https://colab.research.google.com/assets/colab-badge.svg\" alt=\"Open In Colab\"/></a>"
      ]
    },
    {
      "cell_type": "code",
      "execution_count": null,
      "metadata": {
        "id": "SCmbv615MbM9"
      },
      "outputs": [],
      "source": [
        "import datetime\n",
        "\n",
        "while True:\n",
        "    nome = input(\"Digite seu nome completo: \")\n",
        "    ano_nascimento = input(\"Digite seu ano de nascimento (entre 1922 e 2022): \")\n",
        "    \n",
        "    try:\n",
        "        ano_nascimento = int(ano_nascimento)\n",
        "        if not (1922 <= ano_nascimento <= 2022):\n",
        "            raise ValueError\n",
        "        break\n",
        "    except ValueError:\n",
        "        print(\"Ano de nascimento inválido. Tente novamente.\")\n",
        "        \n",
        "data_atual = datetime.datetime.now()\n",
        "idade = data_atual.year - ano_nascimento\n",
        "\n",
        "print(f\"Olá, {nome}! Você tem {idade} anos.\")"
      ]
    }
  ]
}