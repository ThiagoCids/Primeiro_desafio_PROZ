{
  "nbformat": 4,
  "nbformat_minor": 0,
  "metadata": {
    "colab": {
      "provenance": [],
      "authorship_tag": "ABX9TyMqBi8s7HIf7khlqB4XFXju",
      "include_colab_link": true
    },
    "kernelspec": {
      "name": "python3",
      "display_name": "Python 3"
    },
    "language_info": {
      "name": "python"
    }
  },
  "cells": [
    {
      "cell_type": "markdown",
      "metadata": {
        "id": "view-in-github",
        "colab_type": "text"
      },
      "source": [
        "<a href=\"https://colab.research.google.com/github/ThiagoCids/Primeiro_desafio_PROZ/blob/main/Untitled0.ipynb\" target=\"_parent\"><img src=\"https://colab.research.google.com/assets/colab-badge.svg\" alt=\"Open In Colab\"/></a>"
      ]
    },
    {
      "cell_type": "code",
      "execution_count": 1,
      "metadata": {
        "colab": {
          "base_uri": "https://localhost:8080/"
        },
        "id": "ZyD-788mWJFa",
        "outputId": "36014bda-b4ca-4202-a406-2f0197ed71d6"
      },
      "outputs": [
        {
          "output_type": "stream",
          "name": "stdout",
          "text": [
            "Informe a quantidade de rodas: 4\n",
            "Informe o peso bruto em quilogramas: 7000\n",
            "Informe a quantidade de pessoas: 2\n",
            "CATEGORIA C\n"
          ]
        }
      ],
      "source": [
        "quantidadeRodas = int (input(\"Informe a quantidade de rodas: \"))\n",
        "pesoBrutoKg = float (input(\"Informe o peso bruto em quilogramas: \"))\n",
        "quantidadePessoas = int (input(\"Informe a quantidade de pessoas: \")) \n",
        "\n",
        "if ((quantidadeRodas == 2) or (quantidadeRodas == 3)): \n",
        "  print(\"CATEGORIA A\")\n",
        "elif ((quantidadeRodas == 4) and (pesoBrutoKg <= 3500) and (quantidadePessoas <= 8)):\n",
        "  print(\"CATEGORIA B\")\n",
        "elif ((quantidadeRodas >= 4) and (pesoBrutoKg >= 3500 <= 6000)):\n",
        "  print(\"CATEGORIA C\")\n",
        "elif ((quantidadeRodas >= 4) and (quantidadePessoas > 8)):\n",
        "  print(\"CATEGORIA D\")\n",
        "elif ((quantidadeRodas >= 4) and (pesoBrutoKg > 6000)):\n",
        "  print(\"CATEGORIA E\")\n",
        "else:\n",
        "  print(\"Não há categoria para essas informações\")\n",
        "  "
      ]
    }
  ]
}