{
  "nbformat": 4,
  "nbformat_minor": 0,
  "metadata": {
    "colab": {
      "provenance": [],
      "include_colab_link": true
    },
    "kernelspec": {
      "name": "python3",
      "display_name": "Python 3"
    },
    "language_info": {
      "name": "python"
    }
  },
  "cells": [
    {
      "cell_type": "markdown",
      "metadata": {
        "id": "view-in-github",
        "colab_type": "text"
      },
      "source": [
        "<a href=\"https://colab.research.google.com/github/ThiagoCids/Primeiro_desafio_PROZ/blob/main/Desafio_andar_Hotel.ipynb\" target=\"_parent\"><img src=\"https://colab.research.google.com/assets/colab-badge.svg\" alt=\"Open In Colab\"/></a>"
      ]
    },
    {
      "cell_type": "markdown",
      "source": [
        "  Precisamos imprimir um número para cada andar de um hotel de 20 andares. Porém, o dono do hotel é supersticioso e optou por não ter um 13º andar.\n",
        "  \n",
        "\n",
        "  Escreva um código que imprima todos os números exceto o número 13.\n",
        "  Escreva mais dois códigos que resolva o mesmo problema, mas dessa vez usando os outros dois tipos de laços de repetição aprendidos.\n",
        "\n",
        "  Como desafio, imprima eles em ordem decrescente (20, 19, 18...)"
      ],
      "metadata": {
        "id": "7IxF6ABKyx7c"
      }
    },
    {
      "cell_type": "markdown",
      "source": [
        "Utilizando for"
      ],
      "metadata": {
        "id": "_Bw0PBvszpU8"
      }
    },
    {
      "cell_type": "code",
      "execution_count": null,
      "metadata": {
        "id": "JeTU_yQfynrS"
      },
      "outputs": [],
      "source": [
        "andar = 21\n",
        "\n",
        "for i in range (20):\n",
        "    andar = andar - 1\n",
        "    if (andar == 13):\n",
        "      continue\n",
        "    if (andar == 0):\n",
        "      break\n",
        "    print(andar)"
      ]
    },
    {
      "cell_type": "markdown",
      "source": [
        "Utilizando while"
      ],
      "metadata": {
        "id": "QPDfWaVR1X6r"
      }
    },
    {
      "cell_type": "code",
      "source": [
        "andar = 0\n",
        "\n",
        "while (andar < 20):\n",
        "  andar = andar + 1\n",
        "  if (andar == 13):\n",
        "    continue\n",
        "  print (andar)"
      ],
      "metadata": {
        "id": "TtHdOAPU1ga7"
      },
      "execution_count": null,
      "outputs": []
    }
  ]
}